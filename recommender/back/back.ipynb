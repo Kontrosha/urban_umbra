{
 "cells": [
  {
   "cell_type": "code",
   "execution_count": 1,
   "metadata": {},
   "outputs": [],
   "source": [
    "import pandas as pd\n",
    "import pickle\n",
    "from scipy.sparse import csr_matrix\n",
    "import numpy as np \n"
   ]
  },
  {
   "cell_type": "code",
   "execution_count": 2,
   "metadata": {},
   "outputs": [],
   "source": [
    "# Данные с https://www.researchgate.net/publication/308968574_TripAdvisor_Dataset\n",
    "df = pd.read_csv('ratingswithcontextandmetadata.csv', sep='|', on_bad_lines='skip')"
   ]
  },
  {
   "cell_type": "code",
   "execution_count": 3,
   "metadata": {},
   "outputs": [
    {
     "data": {
      "text/html": [
       "<div>\n",
       "<style scoped>\n",
       "    .dataframe tbody tr th:only-of-type {\n",
       "        vertical-align: middle;\n",
       "    }\n",
       "\n",
       "    .dataframe tbody tr th {\n",
       "        vertical-align: top;\n",
       "    }\n",
       "\n",
       "    .dataframe thead th {\n",
       "        text-align: right;\n",
       "    }\n",
       "</style>\n",
       "<table border=\"1\" class=\"dataframe\">\n",
       "  <thead>\n",
       "    <tr style=\"text-align: right;\">\n",
       "      <th></th>\n",
       "      <th>c1</th>\n",
       "      <th>c2</th>\n",
       "      <th>c3</th>\n",
       "      <th>c4</th>\n",
       "      <th>c5</th>\n",
       "      <th>c6</th>\n",
       "      <th>c7</th>\n",
       "      <th>c8</th>\n",
       "      <th>c9</th>\n",
       "      <th>c10</th>\n",
       "      <th>c11</th>\n",
       "      <th>c12</th>\n",
       "      <th>c13</th>\n",
       "      <th>c14</th>\n",
       "      <th>c15</th>\n",
       "      <th>c16</th>\n",
       "      <th>c17</th>\n",
       "      <th>c18</th>\n",
       "    </tr>\n",
       "  </thead>\n",
       "  <tbody>\n",
       "    <tr>\n",
       "      <th>0</th>\n",
       "      <td>Reviewed February 21, 2010</td>\n",
       "      <td>639E347CEF626E6B021161D0BD969ED2</td>\n",
       "      <td>Hotel_Anewandter-Villa_Ottone_South_Tyrol_Prov...</td>\n",
       "      <td>4 of 5 stars</td>\n",
       "      <td>“Very nice food, great atmosphere, feels like ...</td>\n",
       "      <td>Martin and his staff are truely great! They ma...</td>\n",
       "      <td>Stayed February 2010, traveled with family</td>\n",
       "      <td>Value: 5 of 5 stars; Location: 3 of 5 stars; S...</td>\n",
       "      <td>Brussels</td>\n",
       "      <td>Contributor</td>\n",
       "      <td>Villa Ottone</td>\n",
       "      <td>Hotel</td>\n",
       "      <td>Bar / Lounge; Beverage Selection; Business Cen...</td>\n",
       "      <td>$$</td>\n",
       "      <td>NaN</td>\n",
       "      <td>25.0</td>\n",
       "      <td>NaN</td>\n",
       "      <td>NaN</td>\n",
       "    </tr>\n",
       "    <tr>\n",
       "      <th>1</th>\n",
       "      <td>Reviewed 4 days ago NEW</td>\n",
       "      <td>189A8701882507E21BA7B9F4A55D2E72</td>\n",
       "      <td>Hotel_Excelsior-San_Vigilio_Marebbe_South_Tyro...</td>\n",
       "      <td>5 of 5 stars</td>\n",
       "      <td>“Best Hotel on the Planet”</td>\n",
       "      <td>We have stayed at the Excelsior on numerous oc...</td>\n",
       "      <td>Stayed February 2014, traveled with family</td>\n",
       "      <td>Value: 5 of 5 stars; Sleep Quality: 5 of 5 sta...</td>\n",
       "      <td>Singapore, Singapore</td>\n",
       "      <td>Contributor</td>\n",
       "      <td>San Vigilio</td>\n",
       "      <td>Hotel</td>\n",
       "      <td>Bar / Lounge; Beverage Selection; Fitness Cent...</td>\n",
       "      <td>$$$$</td>\n",
       "      <td>NaN</td>\n",
       "      <td>49.0</td>\n",
       "      <td>Our name says it all.Here on the peaceful outs...</td>\n",
       "      <td>NaN</td>\n",
       "    </tr>\n",
       "    <tr>\n",
       "      <th>2</th>\n",
       "      <td>Reviewed September 17, 2014</td>\n",
       "      <td>990C3D220B651C8309A6CF5E0EBFDC05</td>\n",
       "      <td>Hotel_Excelsior-San_Vigilio_Marebbe_South_Tyro...</td>\n",
       "      <td>5 of 5 stars</td>\n",
       "      <td>“Fantastic”</td>\n",
       "      <td>The great reviews are well deserved. Stayed he...</td>\n",
       "      <td>Stayed August 2014, traveled as a couple</td>\n",
       "      <td>Location: 5 of 5 stars; Rooms: 5 of 5 stars; S...</td>\n",
       "      <td>Burlington, Canada</td>\n",
       "      <td>Senior Contributor</td>\n",
       "      <td>San Vigilio</td>\n",
       "      <td>Hotel</td>\n",
       "      <td>Bar / Lounge; Beverage Selection; Fitness Cent...</td>\n",
       "      <td>$$$$</td>\n",
       "      <td>NaN</td>\n",
       "      <td>49.0</td>\n",
       "      <td>Our name says it all.Here on the peaceful outs...</td>\n",
       "      <td>NaN</td>\n",
       "    </tr>\n",
       "    <tr>\n",
       "      <th>3</th>\n",
       "      <td>Reviewed July 27, 2014</td>\n",
       "      <td>C5976008DA681B0AA75B4DE8B73DC5A0</td>\n",
       "      <td>Hotel_Excelsior-San_Vigilio_Marebbe_South_Tyro...</td>\n",
       "      <td>5 of 5 stars</td>\n",
       "      <td>“It is all true!”</td>\n",
       "      <td>Not sure we can add anything to the accurate r...</td>\n",
       "      <td>Stayed July 2014, traveled as a couple</td>\n",
       "      <td>Rooms: 5 of 5 stars; Cleanliness: 5 of 5 stars...</td>\n",
       "      <td>Manchester, United Kingdom</td>\n",
       "      <td>Senior Reviewer</td>\n",
       "      <td>San Vigilio</td>\n",
       "      <td>Hotel</td>\n",
       "      <td>Bar / Lounge; Beverage Selection; Fitness Cent...</td>\n",
       "      <td>$$$$</td>\n",
       "      <td>NaN</td>\n",
       "      <td>49.0</td>\n",
       "      <td>Our name says it all.Here on the peaceful outs...</td>\n",
       "      <td>NaN</td>\n",
       "    </tr>\n",
       "    <tr>\n",
       "      <th>4</th>\n",
       "      <td>Reviewed July 23, 2014</td>\n",
       "      <td>033BB72F0C8D163CDB816027D55E16CC</td>\n",
       "      <td>Hotel_Excelsior-San_Vigilio_Marebbe_South_Tyro...</td>\n",
       "      <td>5 of 5 stars</td>\n",
       "      <td>“Beyond our expectations”</td>\n",
       "      <td>Everything was a high level surprise: from the...</td>\n",
       "      <td>Stayed July 2014, traveled with family</td>\n",
       "      <td>Sleep Quality: 5 of 5 stars; Rooms: 5 of 5 sta...</td>\n",
       "      <td>Milan, Italy</td>\n",
       "      <td>Contributor</td>\n",
       "      <td>San Vigilio</td>\n",
       "      <td>Hotel</td>\n",
       "      <td>Bar / Lounge; Beverage Selection; Fitness Cent...</td>\n",
       "      <td>$$$$</td>\n",
       "      <td>NaN</td>\n",
       "      <td>49.0</td>\n",
       "      <td>Our name says it all.Here on the peaceful outs...</td>\n",
       "      <td>NaN</td>\n",
       "    </tr>\n",
       "  </tbody>\n",
       "</table>\n",
       "</div>"
      ],
      "text/plain": [
       "                            c1                                c2  \\\n",
       "0   Reviewed February 21, 2010  639E347CEF626E6B021161D0BD969ED2   \n",
       "1      Reviewed 4 days ago NEW  189A8701882507E21BA7B9F4A55D2E72   \n",
       "2  Reviewed September 17, 2014  990C3D220B651C8309A6CF5E0EBFDC05   \n",
       "3       Reviewed July 27, 2014  C5976008DA681B0AA75B4DE8B73DC5A0   \n",
       "4       Reviewed July 23, 2014  033BB72F0C8D163CDB816027D55E16CC   \n",
       "\n",
       "                                                  c3            c4  \\\n",
       "0  Hotel_Anewandter-Villa_Ottone_South_Tyrol_Prov...  4 of 5 stars   \n",
       "1  Hotel_Excelsior-San_Vigilio_Marebbe_South_Tyro...  5 of 5 stars   \n",
       "2  Hotel_Excelsior-San_Vigilio_Marebbe_South_Tyro...  5 of 5 stars   \n",
       "3  Hotel_Excelsior-San_Vigilio_Marebbe_South_Tyro...  5 of 5 stars   \n",
       "4  Hotel_Excelsior-San_Vigilio_Marebbe_South_Tyro...  5 of 5 stars   \n",
       "\n",
       "                                                  c5  \\\n",
       "0  “Very nice food, great atmosphere, feels like ...   \n",
       "1                         “Best Hotel on the Planet”   \n",
       "2                                        “Fantastic”   \n",
       "3                                  “It is all true!”   \n",
       "4                          “Beyond our expectations”   \n",
       "\n",
       "                                                  c6  \\\n",
       "0  Martin and his staff are truely great! They ma...   \n",
       "1  We have stayed at the Excelsior on numerous oc...   \n",
       "2  The great reviews are well deserved. Stayed he...   \n",
       "3  Not sure we can add anything to the accurate r...   \n",
       "4  Everything was a high level surprise: from the...   \n",
       "\n",
       "                                           c7  \\\n",
       "0  Stayed February 2010, traveled with family   \n",
       "1  Stayed February 2014, traveled with family   \n",
       "2    Stayed August 2014, traveled as a couple   \n",
       "3      Stayed July 2014, traveled as a couple   \n",
       "4      Stayed July 2014, traveled with family   \n",
       "\n",
       "                                                  c8  \\\n",
       "0  Value: 5 of 5 stars; Location: 3 of 5 stars; S...   \n",
       "1  Value: 5 of 5 stars; Sleep Quality: 5 of 5 sta...   \n",
       "2  Location: 5 of 5 stars; Rooms: 5 of 5 stars; S...   \n",
       "3  Rooms: 5 of 5 stars; Cleanliness: 5 of 5 stars...   \n",
       "4  Sleep Quality: 5 of 5 stars; Rooms: 5 of 5 sta...   \n",
       "\n",
       "                           c9                 c10           c11    c12  \\\n",
       "0                    Brussels         Contributor  Villa Ottone  Hotel   \n",
       "1        Singapore, Singapore         Contributor   San Vigilio  Hotel   \n",
       "2          Burlington, Canada  Senior Contributor   San Vigilio  Hotel   \n",
       "3  Manchester, United Kingdom     Senior Reviewer   San Vigilio  Hotel   \n",
       "4                Milan, Italy         Contributor   San Vigilio  Hotel   \n",
       "\n",
       "                                                 c13   c14  c15   c16  \\\n",
       "0  Bar / Lounge; Beverage Selection; Business Cen...    $$  NaN  25.0   \n",
       "1  Bar / Lounge; Beverage Selection; Fitness Cent...  $$$$  NaN  49.0   \n",
       "2  Bar / Lounge; Beverage Selection; Fitness Cent...  $$$$  NaN  49.0   \n",
       "3  Bar / Lounge; Beverage Selection; Fitness Cent...  $$$$  NaN  49.0   \n",
       "4  Bar / Lounge; Beverage Selection; Fitness Cent...  $$$$  NaN  49.0   \n",
       "\n",
       "                                                 c17  c18  \n",
       "0                                                NaN  NaN  \n",
       "1  Our name says it all.Here on the peaceful outs...  NaN  \n",
       "2  Our name says it all.Here on the peaceful outs...  NaN  \n",
       "3  Our name says it all.Here on the peaceful outs...  NaN  \n",
       "4  Our name says it all.Here on the peaceful outs...  NaN  "
      ]
     },
     "execution_count": 3,
     "metadata": {},
     "output_type": "execute_result"
    }
   ],
   "source": [
    "# В данных нет названий колонок, придумываем временные названия\n",
    "cols = list(map(lambda x: 'c' + str(x), range(1, df.shape[1]+1)))\n",
    "df.columns = cols\n",
    "df.head()"
   ]
  },
  {
   "cell_type": "code",
   "execution_count": 4,
   "metadata": {},
   "outputs": [],
   "source": [
    "# После изучения данных сразу удаляем то, что не понадобится\n",
    "df.drop(columns=['c1', 'c6', 'c7', 'c8', 'c9', 'c10', 'c13', 'c14', 'c15', \n",
    "                 'c16', 'c17'], inplace=True)\n",
    "df.drop(index=df.index[df['c12'] == 'Activity'], inplace=True)"
   ]
  },
  {
   "cell_type": "code",
   "execution_count": 5,
   "metadata": {},
   "outputs": [],
   "source": [
    "# Выделяем названия объектов\n",
    "df['name']= df['c3'].apply(lambda x: x.split('-')[0].replace('_', ' '))\n",
    "df.drop(columns=['c3'], inplace=True)"
   ]
  },
  {
   "cell_type": "code",
   "execution_count": 6,
   "metadata": {},
   "outputs": [],
   "source": [
    "# Преобразуем рейтинги в числа\n",
    "df['rating'] = df['c4'].apply(lambda x: int(x.split()[0]))\n",
    "df.drop(columns=['c4'], inplace=True)"
   ]
  },
  {
   "cell_type": "code",
   "execution_count": 7,
   "metadata": {},
   "outputs": [],
   "source": [
    "# Удаляем регионы с <5 отзывов\n",
    "dft = df.groupby('c11', as_index=False).size()\n",
    "df = pd.merge(df, dft, on='c11', how='left')\n",
    "df.drop(index=df.index[df['size'] < 5], inplace=True)\n",
    "df.drop(columns=['size'], inplace=True)"
   ]
  },
  {
   "cell_type": "code",
   "execution_count": 8,
   "metadata": {},
   "outputs": [],
   "source": [
    "# Удаляем отзывы пользователей, которые писали только об отелях\n",
    "dft = df.groupby('c2', as_index=False).size()\n",
    "df = pd.merge(df, dft, on='c2', how='left')\n",
    "df.drop(index=df.index[(df['size'] < 2) & (df['c12'] == 'Hotel')], inplace=True)\n",
    "\n",
    "def filter_hotels(user):\n",
    "    mask1 = df['c2'] == user\n",
    "    mask2 = df['c12'] != 'Hotel'\n",
    "    if df[mask1 & mask2].shape[0] > 0:\n",
    "        return True\n",
    "    else:\n",
    "        return False\n",
    "df['leave'] = df['c2'].apply(filter_hotels)\n",
    "df.drop(index=df.index[df['leave'] == False], inplace=True)\n",
    "df.drop(columns=['size', 'leave'], inplace=True)"
   ]
  },
  {
   "cell_type": "code",
   "execution_count": 9,
   "metadata": {},
   "outputs": [],
   "source": [
    "# Удаляем записи с пустотами в характеристиках ресторана/достопримечательности\n",
    "df.drop(index=df.index[df['c18'].isna() & (df['c12'] != 'Hotel')], inplace=True)"
   ]
  },
  {
   "cell_type": "code",
   "execution_count": 10,
   "metadata": {},
   "outputs": [],
   "source": [
    "# Переименовываем колонки\n",
    "df = df.rename(columns={'c2': 'user_id', 'c5': 'text', 'c11': 'location',\n",
    "                         'c12': 'type'}) "
   ]
  },
  {
   "cell_type": "code",
   "execution_count": 11,
   "metadata": {},
   "outputs": [],
   "source": [
    "# Собираем информацию о том, сколько отзывов оставили гости отелей о ресторанах \\\n",
    "    # и достопримечательностях\n",
    "def hotel_users(hotel):\n",
    "    mask1 = df['name'] == hotel\n",
    "    mask2 = df['type'] == 'Hotel'\n",
    "    users = df[mask1 & mask2]['user_id'].unique()\n",
    "    attractions = sum(list(map(lambda x: df[(df['user_id'] == x) & (df['type'] == 'Attraction')].shape[0], users)))\n",
    "    restaurants = sum(list(map(lambda x: df[(df['user_id'] == x) & (df['type'] == 'Restaurant')].shape[0], users)))\n",
    "    return pd.Series([restaurants, attractions])\n",
    "    \n",
    "df[['restaurant', 'attraction']] = df['name'].apply(hotel_users)\n",
    "    "
   ]
  },
  {
   "cell_type": "code",
   "execution_count": 12,
   "metadata": {},
   "outputs": [],
   "source": [
    "# Оставляем записи только о тех пользователях отелей, которые писали о \\\n",
    "    # ресторанах и достопримечательностях\n",
    "dfh = df[df['type'] == 'Hotel'].copy()\n",
    "dfh.drop(columns=['c18'], inplace=True)\n",
    "dfh.drop(index= dfh.index[(dfh['restaurant'] == 0) | (dfh['attraction'] == 0)], inplace=True)\n",
    "dfh.drop(columns=['restaurant', 'attraction'], inplace=True)"
   ]
  },
  {
   "cell_type": "code",
   "execution_count": 13,
   "metadata": {},
   "outputs": [],
   "source": [
    "# Выделяем данные по ресторанам и достопримечательностям\n",
    "dfr = df[df['type'] != 'Hotel'].copy()\n",
    "dfr.drop(columns=['restaurant', 'attraction'], inplace=True)"
   ]
  },
  {
   "cell_type": "code",
   "execution_count": 14,
   "metadata": {},
   "outputs": [],
   "source": [
    "# Выделяем признаки для анализа\n",
    "new_cols = ['Cuisines', 'Description', 'Dining options', 'Fee',\n",
    "            'Good for', 'Owner description', 'Price range',\n",
    "            'Recommended length of visit','Type'\n",
    "            ]\n",
    "\n",
    "def one_hot_func(input_str, input_item):\n",
    "    items = str(input_str).split(';')\n",
    "    keys = list(map(lambda x: x.split(':')[0].strip(), items))\n",
    "    values = list(map(lambda x: x.split(':')[1].strip() if len(x.split(':')) > 1 else '', items))\n",
    "    if input_item in keys:\n",
    "        ind = keys.index(input_item)\n",
    "        value = values[ind]\n",
    "        return value\n",
    "    else:\n",
    "        return ''\n",
    "    \n",
    "for item in new_cols:\n",
    "    dfr[item] = dfr['c18'].apply(one_hot_func, input_item=item)\n"
   ]
  },
  {
   "cell_type": "code",
   "execution_count": 15,
   "metadata": {},
   "outputs": [],
   "source": [
    "# Дополняем признак Type информацией о ресторанах\n",
    "mask = dfr['type'] == 'Restaurant'\n",
    "dfr.loc[mask, 'Type'] = 'Restaurants'"
   ]
  },
  {
   "cell_type": "code",
   "execution_count": 16,
   "metadata": {},
   "outputs": [],
   "source": [
    "# Формируем новые признаки\n",
    "categories = set([])\n",
    "\n",
    "def join_func(input_str, to_set):\n",
    "    items = str(input_str).split(',')\n",
    "    to_set.update(items)\n",
    "    \n",
    "for item in dfr['Type'].tolist():\n",
    "    join_func(item, categories)\n",
    "    \n",
    "cat_list = list(map(lambda x: x.strip(), categories))\n",
    "categories = list(set(cat_list))\n",
    "\n",
    "def one_hot(input_str, input_item):\n",
    "    if input_item in input_str:\n",
    "        return 1\n",
    "    else:\n",
    "        return 0\n",
    "    \n",
    "for item in categories:\n",
    "    dfr[item] = dfr['Type'].apply(one_hot, input_item=item)"
   ]
  },
  {
   "cell_type": "code",
   "execution_count": 17,
   "metadata": {},
   "outputs": [],
   "source": [
    "# Удаляем ненужные колонки\n",
    "dfr.drop(columns=['c18', 'Cuisines', 'Description', 'Dining options', 'Fee',\n",
    "                  'Good for', 'Owner description', 'Price range',\n",
    "                  'Recommended length of visit', 'Type'], inplace=True)"
   ]
  },
  {
   "cell_type": "code",
   "execution_count": 18,
   "metadata": {},
   "outputs": [
    {
     "data": {
      "text/plain": [
       "558"
      ]
     },
     "execution_count": 18,
     "metadata": {},
     "output_type": "execute_result"
    }
   ],
   "source": [
    "# Количество уникальных объектов\n",
    "dfr['name'].unique().size"
   ]
  },
  {
   "cell_type": "code",
   "execution_count": 19,
   "metadata": {},
   "outputs": [],
   "source": [
    "# Собираем признаки уникальных объектов\n",
    "unique_names = dfr['name'].unique()\n",
    "data_dict = {'name': unique_names}\n",
    "\n",
    "# Рейтинг\n",
    "def get_rating(name):\n",
    "    mask = dfr['name'] == name\n",
    "    return round(dfr.loc[mask, 'rating'].mean(), 2)\n",
    "# Место\n",
    "def get_location(name):\n",
    "    mask = dfr['name'] == name\n",
    "    return dfr.loc[mask, 'location'].mode()[0]\n",
    "# Колонки с true/false признаками\n",
    "def cumulative_column(name, col):\n",
    "    mask = dfr['name'] == name\n",
    "    if dfr.loc[mask, col].sum() > 0:\n",
    "        return 1\n",
    "    else:\n",
    "        return 0\n",
    "# Списки отзывов    \n",
    "def group_reviews(name):\n",
    "    mask = dfr['name'] == name\n",
    "    return dfr.loc[mask, 'text'].tolist()\n",
    "\n",
    "\n",
    "data_dict['rating'] = list(map(get_rating, unique_names))\n",
    "data_dict['location'] = list(map(get_location, unique_names))\n",
    "data = pd.DataFrame(data_dict)   \n",
    "for cat in categories:\n",
    "    data[cat] = data['name'].apply(cumulative_column, col=cat)   \n",
    "data['reviews'] = data['name'].apply(group_reviews)\n",
    "\n",
    "df_dict = data.to_dict('list')"
   ]
  },
  {
   "cell_type": "code",
   "execution_count": 20,
   "metadata": {},
   "outputs": [],
   "source": [
    "# Формируем список объектов (через словарь, так быстрее работает)\n",
    "object_ids = df_dict['name']\n",
    "ind_o = range(len(object_ids))\n",
    "object_ids_dict=dict(zip(object_ids, ind_o))"
   ]
  },
  {
   "cell_type": "code",
   "execution_count": 21,
   "metadata": {},
   "outputs": [],
   "source": [
    "# Формируем список пользователей (через словарь, так быстрее работает)\n",
    "user_ids = dfr['user_id'].unique().tolist()\n",
    "ind_u = range(len(user_ids))\n",
    "user_ids_dict = dict(zip(user_ids, ind_u))"
   ]
  },
  {
   "cell_type": "code",
   "execution_count": 22,
   "metadata": {},
   "outputs": [],
   "source": [
    "# Формируем матрицу взаимодействий и заполняем её рейтингами\n",
    "interaction_matrix = csr_matrix((len(user_ids), len(object_ids)),  \n",
    "                          dtype = np.int8).toarray() \n",
    "\n",
    "def record_interactions(user_id):\n",
    "    mat_row_ind = user_ids_dict[user_id]\n",
    "    mask = dfr['user_id'] == user_id\n",
    "    tmp_df = dfr.loc[mask, ['name', 'rating']]\n",
    "    for name in tmp_df['name'].tolist():\n",
    "        mat_col_ind = object_ids_dict[name]\n",
    "        mask2 = dfr['name'] == name\n",
    "        mat_value = dfr[mask & mask2]['rating'].values[0]\n",
    "        interaction_matrix[mat_row_ind, mat_col_ind] = mat_value\n",
    "        \n",
    "for usr in user_ids:\n",
    "    record_interactions(usr)\n",
    "    "
   ]
  },
  {
   "cell_type": "code",
   "execution_count": 23,
   "metadata": {},
   "outputs": [],
   "source": [
    "# Собираем данные о пользователях, которые писали отзывы о каждой гостинице\n",
    "hotel_dict = {}\n",
    "def collect_hotels(name):\n",
    "    mask = dfh['name'] == name\n",
    "    return dfh.loc[mask, 'user_id'].tolist()\n",
    "\n",
    "for hotel in dfh['name'].tolist():\n",
    "    hotel_dict[hotel] = collect_hotels(hotel)\n"
   ]
  },
  {
   "cell_type": "code",
   "execution_count": 24,
   "metadata": {},
   "outputs": [],
   "source": [
    "# Собираем все данные рекомендательной системе в одном словаре\n",
    "rec = {}\n",
    "rec['user_ids_dict'] = user_ids_dict\n",
    "rec['object_ids_dict'] = object_ids_dict\n",
    "rec['interaction_matrix'] = interaction_matrix\n",
    "rec['object_metadata'] = df_dict\n",
    "rec['hotels_users'] = hotel_dict"
   ]
  },
  {
   "cell_type": "code",
   "execution_count": 25,
   "metadata": {},
   "outputs": [],
   "source": [
    "# Сохраняем данные рекомендательной системы\n",
    "with open('../front/recommender.pkl', 'wb') as f:\n",
    "    pickle.dump(rec, f)"
   ]
  }
 ],
 "metadata": {
  "kernelspec": {
   "display_name": "Python 3",
   "language": "python",
   "name": "python3"
  },
  "language_info": {
   "codemirror_mode": {
    "name": "ipython",
    "version": 3
   },
   "file_extension": ".py",
   "mimetype": "text/x-python",
   "name": "python",
   "nbconvert_exporter": "python",
   "pygments_lexer": "ipython3",
   "version": "3.11.5"
  }
 },
 "nbformat": 4,
 "nbformat_minor": 2
}
